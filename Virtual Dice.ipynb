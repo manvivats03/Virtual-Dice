{
 "cells": [
  {
   "cell_type": "code",
   "execution_count": 4,
   "id": "8c645d9a",
   "metadata": {},
   "outputs": [
    {
     "name": "stderr",
     "output_type": "stream",
     "text": [
      "ERROR: Could not find a version that satisfies the requirement tkinter (from versions: none)\n",
      "ERROR: No matching distribution found for tkinter\n"
     ]
    }
   ],
   "source": [
    "!pip install tkinter\n",
    "import random\n",
    "import tkinter\n",
    "root = tkinter.Tk()\n",
    "root.geometry('600x600')\n",
    "root.title('Roll Dice')\n",
    "\n",
    "#label to print result\n",
    "label = tkinter.Label(root, text='', font=('Helvetica', 260))\n",
    "\n",
    "#label to introduce\n",
    "label2 = tkinter.Label(root, text='Click \"roll dice\" to get started ', font=('Helvetica',10))\n",
    "label2.place(x=150,y=400)\n",
    "def roll_dice():\n",
    "    value = ['\\u2680', '\\u2681', '\\u2682', '\\u2683', '\\u2684', '\\u2685']\n",
    "    result=random.choice(value)\n",
    "    label.configure(text=result)\n",
    "    label.pack()\n",
    "    if(result=='\\u2680'):\n",
    "        label3=tkinter.Label(root,text='You rolled a one! Click roll dice to roll again.',font=('Helvetica',10))\n",
    "        label3.place(x=150,y=450)\n",
    "    elif(result=='\\u2681'):\n",
    "        label3=tkinter.Label(root,text='You rolled a two! Click roll dice to roll again.',font=('Helvetica',10))\n",
    "        label3.place(x=150,y=450)\n",
    "    elif(result=='\\u2682'):\n",
    "        label3=tkinter.Label(root,text='You rolled a three! Click roll dice to roll again.',font=('Helvetica',10))\n",
    "        label3.place(x=150,y=450)\n",
    "    elif(result=='\\u2683'):\n",
    "        label3=tkinter.Label(root,text='You rolled a four! Click roll dice to roll again.',font=('Helvetica',10))\n",
    "        label3.place(x=150,y=450)\n",
    "    elif(result=='\\u2684'):\n",
    "        label3=tkinter.Label(root,text='You rolled a five! Click roll dice to roll again.',font=('Helvetica',10))\n",
    "        label3.place(x=150,y=450)\n",
    "    elif(result=='\\u2685'):\n",
    "        label3=tkinter.Label(root,text='You rolled a six! Click roll dice to roll again.',font=('Helvetica',10))\n",
    "        label3.place(x=150,y=450)\n",
    "button = tkinter.Button(root, text='roll dice', foreground='red', command=roll_dice)\n",
    "button.pack()\n",
    "root.mainloop()"
   ]
  },
  {
   "cell_type": "code",
   "execution_count": null,
   "id": "377c1ea8",
   "metadata": {},
   "outputs": [],
   "source": []
  }
 ],
 "metadata": {
  "kernelspec": {
   "display_name": "Python 3 (ipykernel)",
   "language": "python",
   "name": "python3"
  },
  "language_info": {
   "codemirror_mode": {
    "name": "ipython",
    "version": 3
   },
   "file_extension": ".py",
   "mimetype": "text/x-python",
   "name": "python",
   "nbconvert_exporter": "python",
   "pygments_lexer": "ipython3",
   "version": "3.9.7"
  }
 },
 "nbformat": 4,
 "nbformat_minor": 5
}
